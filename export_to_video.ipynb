{
 "cells": [
  {
   "cell_type": "code",
   "execution_count": 5,
   "id": "fb173b91",
   "metadata": {},
   "outputs": [
    {
     "data": {
      "text/plain": [
       "<module 'os' from 'C:\\\\Program Files\\\\Python310\\\\lib\\\\os.py'>"
      ]
     },
     "execution_count": 5,
     "metadata": {},
     "output_type": "execute_result"
    }
   ],
   "source": []
  },
  {
   "cell_type": "code",
   "execution_count": 2,
   "id": "adba052d",
   "metadata": {},
   "outputs": [],
   "source": [
    "import os\n",
    "import sys\n",
    "import pyNetLogo\n",
    "import imageio\n",
    "from PIL import Image, ImageEnhance\n",
    "\n",
    "#netlogo = pyNetLogo.NetLogoLink(gui=False)"
   ]
  },
  {
   "cell_type": "code",
   "execution_count": null,
   "id": "bac3461b",
   "metadata": {},
   "outputs": [],
   "source": [
    "netlogo = pyNetLogo.NetLogoLink(gui=True)"
   ]
  },
  {
   "cell_type": "code",
   "execution_count": null,
   "id": "713e90c4",
   "metadata": {},
   "outputs": [],
   "source": [
    "def export_png(model, tick, params=None, scale=1.0, png='pynevex.png',setup='Setup',go='go'):\n",
    "    \"\"\"Export a single tick from a NetLogo run as a PNG\n",
    "    \n",
    "    Parameters\n",
    "    ----------\n",
    "    model: str\n",
    "        Path, name of NetLogo model file\n",
    "        \n",
    "    tick: int\n",
    "        Model time step to export\n",
    "        \n",
    "    params: dict\n",
    "        Pairings of NetLogo global parameters (e.g. sliders) and desired values\n",
    "        \n",
    "    scale: float\n",
    "        Scale factor by which output file should be larger (or smaller) than NetLogo model world:\n",
    "            >1.0 larger\n",
    "            1.0 same size\n",
    "            <1.0 smaller\n",
    "        \n",
    "    png: str\n",
    "        Name of created PNG\n",
    "        \n",
    "    setup: str\n",
    "        Name of model's initialization procedure\n",
    "        \n",
    "    go: str\n",
    "        Name of model's iteration procedure\n",
    "    \n",
    "    Returns\n",
    "    -------\n",
    "    None (PNG file created in model directory)\n",
    "    \n",
    "    \"\"\"\n",
    "    \n",
    "    frame = [tick]\n",
    "    \n",
    "    export_frames(model, frame, params, setup, go)\n",
    "    \n",
    "    rename_frame(frame, png)\n",
    "    \n",
    "    return\n",
    "\n"
   ]
  }
 ],
 "metadata": {
  "kernelspec": {
   "display_name": "Python 3 (ipykernel)",
   "language": "python",
   "name": "python3"
  },
  "language_info": {
   "codemirror_mode": {
    "name": "ipython",
    "version": 3
   },
   "file_extension": ".py",
   "mimetype": "text/x-python",
   "name": "python",
   "nbconvert_exporter": "python",
   "pygments_lexer": "ipython3",
   "version": "3.10.5"
  }
 },
 "nbformat": 4,
 "nbformat_minor": 5
}
